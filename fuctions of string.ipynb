{
 "cells": [
  {
   "cell_type": "code",
   "execution_count": 32,
   "id": "d3ba0492",
   "metadata": {},
   "outputs": [],
   "source": [
    "\n",
    "x=\"hello! this is anisha. \\n how are you???\"\n",
    "y=x.split()\n"
   ]
  },
  {
   "cell_type": "code",
   "execution_count": 8,
   "id": "81f22fa0",
   "metadata": {},
   "outputs": [
    {
     "name": "stdout",
     "output_type": "stream",
     "text": [
      "['hello!', 'this', 'is', 'anisha.', 'how', 'are', 'you???']\n"
     ]
    }
   ],
   "source": [
    "print(y)"
   ]
  },
  {
   "cell_type": "code",
   "execution_count": 10,
   "id": "135eb2c1",
   "metadata": {},
   "outputs": [
    {
     "data": {
      "text/plain": [
       "['hello!', 'this', 'is', 'anisha.', 'how', 'are you???']"
      ]
     },
     "execution_count": 10,
     "metadata": {},
     "output_type": "execute_result"
    }
   ],
   "source": [
    "x.split(\" \",5)"
   ]
  },
  {
   "cell_type": "code",
   "execution_count": 12,
   "id": "3ced33b9",
   "metadata": {},
   "outputs": [
    {
     "data": {
      "text/plain": [
       "['hello! this is anisha. how are you', '', '', '']"
      ]
     },
     "execution_count": 12,
     "metadata": {},
     "output_type": "execute_result"
    }
   ],
   "source": [
    "x.split(\"?\")\n",
    "\n"
   ]
  },
  {
   "cell_type": "code",
   "execution_count": 19,
   "id": "c69255ee",
   "metadata": {},
   "outputs": [
    {
     "name": "stdout",
     "output_type": "stream",
     "text": [
      "hello! this is anisha. how are you???\n"
     ]
    }
   ],
   "source": [
    "\n",
    "print(x)"
   ]
  },
  {
   "cell_type": "code",
   "execution_count": 24,
   "id": "2542f5cb",
   "metadata": {},
   "outputs": [
    {
     "data": {
      "text/plain": [
       "'hello! this is anisha. how a'"
      ]
     },
     "execution_count": 24,
     "metadata": {},
     "output_type": "execute_result"
    }
   ],
   "source": [
    "x[:-9]"
   ]
  },
  {
   "cell_type": "code",
   "execution_count": 25,
   "id": "729c4bc0",
   "metadata": {},
   "outputs": [
    {
     "data": {
      "text/plain": [
       "'llo! this is anisha. how a'"
      ]
     },
     "execution_count": 25,
     "metadata": {},
     "output_type": "execute_result"
    }
   ],
   "source": [
    "x[2:-9]"
   ]
  },
  {
   "cell_type": "code",
   "execution_count": 28,
   "id": "faeb2572",
   "metadata": {},
   "outputs": [
    {
     "name": "stdout",
     "output_type": "stream",
     "text": [
      "5\n"
     ]
    }
   ],
   "source": [
    "i=x.index(\"!\")\n",
    "print(i)\n"
   ]
  },
  {
   "cell_type": "code",
   "execution_count": 29,
   "id": "0fa86488",
   "metadata": {},
   "outputs": [
    {
     "data": {
      "text/plain": [
       "'! this is anisha. how are you'"
      ]
     },
     "execution_count": 29,
     "metadata": {},
     "output_type": "execute_result"
    }
   ],
   "source": [
    "x[i:x.index(\"?\")]"
   ]
  },
  {
   "cell_type": "code",
   "execution_count": 30,
   "id": "9afcc716",
   "metadata": {},
   "outputs": [
    {
     "data": {
      "text/plain": [
       "'Hello! this is anisha. how are you???'"
      ]
     },
     "execution_count": 30,
     "metadata": {},
     "output_type": "execute_result"
    }
   ],
   "source": [
    "x.capitalize()\n"
   ]
  },
  {
   "cell_type": "code",
   "execution_count": 31,
   "id": "212cf58b",
   "metadata": {},
   "outputs": [
    {
     "data": {
      "text/plain": [
       "'HELLO! THIS IS ANISHA. HOW ARE YOU???'"
      ]
     },
     "execution_count": 31,
     "metadata": {},
     "output_type": "execute_result"
    }
   ],
   "source": [
    "x.upper()"
   ]
  },
  {
   "cell_type": "code",
   "execution_count": 33,
   "id": "3adac071",
   "metadata": {},
   "outputs": [
    {
     "name": "stdout",
     "output_type": "stream",
     "text": [
      "hello! this is anisha. \n",
      " how are you???\n"
     ]
    }
   ],
   "source": [
    "print(x)"
   ]
  },
  {
   "cell_type": "code",
   "execution_count": 38,
   "id": "ab8d6b4a",
   "metadata": {},
   "outputs": [
    {
     "data": {
      "text/plain": [
       "1"
      ]
     },
     "execution_count": 38,
     "metadata": {},
     "output_type": "execute_result"
    }
   ],
   "source": [
    "x.count(\"you\") #returns number of times IS is in sting"
   ]
  },
  {
   "cell_type": "code",
   "execution_count": 39,
   "id": "8cb177c0",
   "metadata": {},
   "outputs": [
    {
     "data": {
      "text/plain": [
       "b'hello! this is anisha. \\n how are you???'"
      ]
     },
     "execution_count": 39,
     "metadata": {},
     "output_type": "execute_result"
    }
   ],
   "source": [
    "x.encode()"
   ]
  },
  {
   "cell_type": "code",
   "execution_count": 40,
   "id": "ea1f51ec",
   "metadata": {},
   "outputs": [
    {
     "data": {
      "text/plain": [
       "False"
      ]
     },
     "execution_count": 40,
     "metadata": {},
     "output_type": "execute_result"
    }
   ],
   "source": [
    "x.endswith(\"anisha\")"
   ]
  },
  {
   "cell_type": "code",
   "execution_count": 41,
   "id": "2bc285e3",
   "metadata": {},
   "outputs": [
    {
     "data": {
      "text/plain": [
       "True"
      ]
     },
     "execution_count": 41,
     "metadata": {},
     "output_type": "execute_result"
    }
   ],
   "source": [
    "x.endswith(\"?\")"
   ]
  },
  {
   "cell_type": "code",
   "execution_count": 42,
   "id": "28d62dbe",
   "metadata": {},
   "outputs": [
    {
     "data": {
      "text/plain": [
       "'hello! this is anisha. \\n how are you???'"
      ]
     },
     "execution_count": 42,
     "metadata": {},
     "output_type": "execute_result"
    }
   ],
   "source": [
    "x.expandtabs()"
   ]
  },
  {
   "cell_type": "code",
   "execution_count": 43,
   "id": "40ef2fff",
   "metadata": {},
   "outputs": [
    {
     "data": {
      "text/plain": [
       "15"
      ]
     },
     "execution_count": 43,
     "metadata": {},
     "output_type": "execute_result"
    }
   ],
   "source": [
    "x.find(\"anisha\")"
   ]
  },
  {
   "cell_type": "code",
   "execution_count": 45,
   "id": "4d936da8",
   "metadata": {},
   "outputs": [
    {
     "data": {
      "text/plain": [
       "('hello! this is ', 'anisha', '. \\n how are you???')"
      ]
     },
     "execution_count": 45,
     "metadata": {},
     "output_type": "execute_result"
    }
   ],
   "source": [
    "x.partition(\"anisha\")"
   ]
  },
  {
   "cell_type": "code",
   "execution_count": 46,
   "id": "e575c7cc",
   "metadata": {},
   "outputs": [
    {
     "data": {
      "text/plain": [
       "'hello! this is ann. \\n how are you???'"
      ]
     },
     "execution_count": 46,
     "metadata": {},
     "output_type": "execute_result"
    }
   ],
   "source": [
    "x.replace(\"anisha\",\"ann\")"
   ]
  },
  {
   "cell_type": "code",
   "execution_count": 48,
   "id": "86009ec7",
   "metadata": {},
   "outputs": [
    {
     "data": {
      "text/plain": [
       "17"
      ]
     },
     "execution_count": 48,
     "metadata": {},
     "output_type": "execute_result"
    }
   ],
   "source": [
    "x.rfind(\"is\")"
   ]
  },
  {
   "cell_type": "code",
   "execution_count": 49,
   "id": "a4e4b496",
   "metadata": {},
   "outputs": [
    {
     "data": {
      "text/plain": [
       "'Hello! This Is Anisha. \\n How Are You???'"
      ]
     },
     "execution_count": 49,
     "metadata": {},
     "output_type": "execute_result"
    }
   ],
   "source": [
    "x.title()"
   ]
  },
  {
   "cell_type": "code",
   "execution_count": 51,
   "id": "80e122aa",
   "metadata": {},
   "outputs": [
    {
     "data": {
      "text/plain": [
       "'hello! this is anisha. \\n how are you???'"
      ]
     },
     "execution_count": 51,
     "metadata": {},
     "output_type": "execute_result"
    }
   ],
   "source": [
    "x.zfill(10)"
   ]
  },
  {
   "cell_type": "code",
   "execution_count": 54,
   "id": "e0fc837d",
   "metadata": {},
   "outputs": [
    {
     "data": {
      "text/plain": [
       "'00000000000000000000000000000000000000000000000100'"
      ]
     },
     "execution_count": 54,
     "metadata": {},
     "output_type": "execute_result"
    }
   ],
   "source": [
    "y=\"100\"\n",
    "y.zfill(50)"
   ]
  },
  {
   "cell_type": "code",
   "execution_count": 57,
   "id": "ce5c4b38",
   "metadata": {},
   "outputs": [],
   "source": [
    "z=(x[: :-1])"
   ]
  },
  {
   "cell_type": "code",
   "execution_count": null,
   "id": "4bca0d30",
   "metadata": {},
   "outputs": [],
   "source": []
  },
  {
   "cell_type": "code",
   "execution_count": null,
   "id": "9d663857",
   "metadata": {},
   "outputs": [],
   "source": []
  }
 ],
 "metadata": {
  "kernelspec": {
   "display_name": "Python 3",
   "language": "python",
   "name": "python3"
  },
  "language_info": {
   "codemirror_mode": {
    "name": "ipython",
    "version": 3
   },
   "file_extension": ".py",
   "mimetype": "text/x-python",
   "name": "python",
   "nbconvert_exporter": "python",
   "pygments_lexer": "ipython3",
   "version": "3.9.5"
  }
 },
 "nbformat": 4,
 "nbformat_minor": 5
}
