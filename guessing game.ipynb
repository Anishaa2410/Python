{
 "cells": [
  {
   "cell_type": "code",
   "execution_count": null,
   "id": "5b992007",
   "metadata": {},
   "outputs": [
    {
     "name": "stdout",
     "output_type": "stream",
     "text": [
      "\t\t\t\t\t GUESSING GAME \n",
      "Rules are - \n",
      "1. Player have to guess a number between 1 and 100.\n",
      "2. In your first turn,  if your guess is within 10 of the number, WARM will be shown else COLD will be displayed to the user. \n",
      "3.On all subsequent turns, if  guess is closer to the number than the previous guess, WARMER will be displayed else COLDER will be displayed. \n",
      "\n",
      "BEST OF LUCK! :) \n"
     ]
    }
   ],
   "source": [
    "\n",
    "print(\"\\t\\t\\t\\t\\t GUESSING GAME \")\n",
    "print(\"Rules are - \\n1. Player have to guess a number between 1 and 100.\\n2. In your first turn,  if your guess is within 10 of the number, WARM will be shown else COLD will be displayed to the user. \\n3.On all subsequent turns, if  guess is closer to the number than the previous guess, WARMER will be displayed else COLDER will be displayed. \\n\")\n",
    "print(\"BEST OF LUCK! :) \")\n",
    "\n",
    "\n",
    "import random\n",
    "num =random.randint(1,100)\n",
    "tries=0\n",
    "while(tries<99999):\n",
    "    guess1=int(input(\"Enter your guess : \"))\n",
    "    \n",
    "    if (guess1>num):\n",
    "        diff=guess1-num\n",
    "        if(diff)>10:\n",
    "            print(\"COLD\")\n",
    "            tries+=1\n",
    "        else:\n",
    "            print(\"WARM\")\n",
    "            tries+=1\n",
    "    elif(num>guess1):\n",
    "        diff=num-guess1\n",
    "        if diff>10:\n",
    "            print(\"COLD\")\n",
    "            tries+=1\n",
    "        else:\n",
    "            print(\"WARM\")\n",
    "            tries+=1\n",
    "    elif(guess1==num):\n",
    "        print(\"You did it! Congratulations!\")\n",
    "        tries+=1\n",
    "        print(\"Tries taken :\",tries)\n",
    "        break\n",
    "    x=input(\"Do you want to continue? (yes/no) : \")\n",
    "    if (x==\"yes\"):\n",
    "        y=int(input(\"Enter your guess :\"))\n",
    "        if y>num:\n",
    "            diff2=y-num\n",
    "            if(diff2>diff):\n",
    "                print(\"COLDER\")\n",
    "                tries+=1\n",
    "            else:\n",
    "                print(\"WARMER\")\n",
    "                tries+=1\n",
    "        elif num>y:\n",
    "            diff2=num-y\n",
    "            if(diff2>diff):\n",
    "                print(\"COLDER\")\n",
    "                tries+=1\n",
    "            else:\n",
    "                print(\"WARMER\")\n",
    "                tries+=1\n",
    "        elif num==y:\n",
    "            print(\"YOU WON!!\")\n",
    "            tries+=1\n",
    "            print(\"Tries taken :\",tries)\n",
    "            break\n",
    "            \n",
    "    else:\n",
    "        print(\"Better luck next time!\")\n",
    "        print(\"The Number Was: \",num)\n",
    "        print(\"Tries taken : \",tries)\n",
    "        break\n",
    "            \n",
    "    \n",
    "        \n",
    "        \n",
    "        \n",
    "        \n",
    "            \n"
   ]
  },
  {
   "cell_type": "code",
   "execution_count": null,
   "id": "82effee5",
   "metadata": {},
   "outputs": [],
   "source": []
  },
  {
   "cell_type": "code",
   "execution_count": null,
   "id": "89bf5627",
   "metadata": {},
   "outputs": [],
   "source": []
  }
 ],
 "metadata": {
  "kernelspec": {
   "display_name": "Python 3",
   "language": "python",
   "name": "python3"
  },
  "language_info": {
   "codemirror_mode": {
    "name": "ipython",
    "version": 3
   },
   "file_extension": ".py",
   "mimetype": "text/x-python",
   "name": "python",
   "nbconvert_exporter": "python",
   "pygments_lexer": "ipython3",
   "version": "3.9.5"
  }
 },
 "nbformat": 4,
 "nbformat_minor": 5
}
